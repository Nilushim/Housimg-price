{
 "cells": [
  {
   "cell_type": "code",
   "execution_count": 1,
   "id": "45f916b8-44fa-487d-9b5f-c62cfba402e1",
   "metadata": {},
   "outputs": [],
   "source": [
    "import pandas as pd\n",
    "from sklearn.model_selection import train_test_split\n",
    "from sklearn.metrics import mean_squared_error\n",
    "from sklearn.linear_model import LinearRegression\n",
    "from sklearn.preprocessing import StandardScaler\n",
    "from sklearn.compose import ColumnTransformer\n",
    "from sklearn.pipeline import make_pipeline\n",
    "from sklearn.datasets import fetch_california_housing"
   ]
  },
  {
   "cell_type": "code",
   "execution_count": 2,
   "id": "3af65389-6bbc-4451-b0b4-e77971e8eaad",
   "metadata": {},
   "outputs": [],
   "source": [
    "california_houses=fetch_california_housing()"
   ]
  },
  {
   "cell_type": "code",
   "execution_count": 3,
   "id": "18b217ba-08bc-4d36-babd-a40a81daf778",
   "metadata": {},
   "outputs": [
    {
     "name": "stdout",
     "output_type": "stream",
     "text": [
      "<class 'pandas.core.frame.DataFrame'>\n",
      "RangeIndex: 20640 entries, 0 to 20639\n",
      "Data columns (total 8 columns):\n",
      " #   Column      Non-Null Count  Dtype  \n",
      "---  ------      --------------  -----  \n",
      " 0   MedInc      20640 non-null  float64\n",
      " 1   HouseAge    20640 non-null  float64\n",
      " 2   AveRooms    20640 non-null  float64\n",
      " 3   AveBedrms   20640 non-null  float64\n",
      " 4   Population  20640 non-null  float64\n",
      " 5   AveOccup    20640 non-null  float64\n",
      " 6   Latitude    20640 non-null  float64\n",
      " 7   Longitude   20640 non-null  float64\n",
      "dtypes: float64(8)\n",
      "memory usage: 1.3 MB\n"
     ]
    }
   ],
   "source": [
    "df=pd.DataFrame(california_houses.data,columns=california_houses.feature_names)\n",
    "df.info()"
   ]
  },
  {
   "cell_type": "code",
   "execution_count": 4,
   "id": "e289f3e7-34cd-4b1c-824e-0a8c0b90da33",
   "metadata": {},
   "outputs": [
    {
     "name": "stdout",
     "output_type": "stream",
     "text": [
      "<class 'pandas.core.frame.DataFrame'>\n",
      "RangeIndex: 20640 entries, 0 to 20639\n",
      "Data columns (total 9 columns):\n",
      " #   Column      Non-Null Count  Dtype  \n",
      "---  ------      --------------  -----  \n",
      " 0   MedInc      20640 non-null  float64\n",
      " 1   HouseAge    20640 non-null  float64\n",
      " 2   AveRooms    20640 non-null  float64\n",
      " 3   AveBedrms   20640 non-null  float64\n",
      " 4   Population  20640 non-null  float64\n",
      " 5   AveOccup    20640 non-null  float64\n",
      " 6   Latitude    20640 non-null  float64\n",
      " 7   Longitude   20640 non-null  float64\n",
      " 8   MedV        20640 non-null  float64\n",
      "dtypes: float64(9)\n",
      "memory usage: 1.4 MB\n"
     ]
    }
   ],
   "source": [
    "df['MedV']=california_houses.target\n",
    "df.info()"
   ]
  },
  {
   "cell_type": "code",
   "execution_count": 5,
   "id": "6fb9bd7d-7b5a-423c-bc06-4845d44c9c2c",
   "metadata": {},
   "outputs": [
    {
     "data": {
      "text/plain": [
       "Latitude\n",
       "34.06    244\n",
       "34.05    236\n",
       "34.08    234\n",
       "34.07    231\n",
       "34.04    221\n",
       "        ... \n",
       "41.01      1\n",
       "41.36      1\n",
       "41.13      1\n",
       "40.30      1\n",
       "35.88      1\n",
       "Name: count, Length: 862, dtype: int64"
      ]
     },
     "execution_count": 5,
     "metadata": {},
     "output_type": "execute_result"
    }
   ],
   "source": [
    "df['Latitude'].value_counts()"
   ]
  },
  {
   "cell_type": "code",
   "execution_count": 6,
   "id": "eba40780-5c76-4853-bef7-3dfc82799348",
   "metadata": {},
   "outputs": [
    {
     "data": {
      "text/plain": [
       "Longitude\n",
       "-118.31    162\n",
       "-118.30    160\n",
       "-118.29    148\n",
       "-118.27    144\n",
       "-118.32    142\n",
       "          ... \n",
       "-123.54      1\n",
       "-115.94      1\n",
       "-115.99      1\n",
       "-116.81      1\n",
       "-123.71      1\n",
       "Name: count, Length: 844, dtype: int64"
      ]
     },
     "execution_count": 6,
     "metadata": {},
     "output_type": "execute_result"
    }
   ],
   "source": [
    "df['Longitude'].value_counts()"
   ]
  },
  {
   "cell_type": "code",
   "execution_count": 8,
   "id": "45e80d8d-d653-4574-8962-fdb3d7f83f41",
   "metadata": {},
   "outputs": [
    {
     "data": {
      "text/plain": [
       "Latitude\n",
       "32.54   -117.04\n",
       "32.55   -117.04\n",
       "32.56   -116.97\n",
       "32.57   -117.05\n",
       "32.58   -117.04\n",
       "          ...  \n",
       "41.84   -124.30\n",
       "41.86   -121.93\n",
       "41.88   -123.83\n",
       "41.92   -124.16\n",
       "41.95   -122.64\n",
       "Name: Longitude, Length: 862, dtype: float64"
      ]
     },
     "execution_count": 8,
     "metadata": {},
     "output_type": "execute_result"
    }
   ],
   "source": [
    "df.groupby(by='Latitude')['Longitude'].max()"
   ]
  },
  {
   "cell_type": "code",
   "execution_count": null,
   "id": "018beb7c-09bb-4234-b1be-940b7a67070f",
   "metadata": {},
   "outputs": [],
   "source": []
  }
 ],
 "metadata": {
  "kernelspec": {
   "display_name": "Python 3 (ipykernel)",
   "language": "python",
   "name": "python3"
  },
  "language_info": {
   "codemirror_mode": {
    "name": "ipython",
    "version": 3
   },
   "file_extension": ".py",
   "mimetype": "text/x-python",
   "name": "python",
   "nbconvert_exporter": "python",
   "pygments_lexer": "ipython3",
   "version": "3.12.4"
  }
 },
 "nbformat": 4,
 "nbformat_minor": 5
}
